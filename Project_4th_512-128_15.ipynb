{
  "nbformat": 4,
  "nbformat_minor": 0,
  "metadata": {
    "colab": {
      "name": "Project_4th.ipynb",
      "version": "0.3.2",
      "provenance": [],
      "collapsed_sections": [],
      "include_colab_link": true
    },
    "kernelspec": {
      "name": "python3",
      "display_name": "Python 3"
    }
  },
  "cells": [
    {
      "cell_type": "markdown",
      "metadata": {
        "id": "view-in-github",
        "colab_type": "text"
      },
      "source": [
        "<a href=\"https://colab.research.google.com/github/TanmayBagd7/DataAnalyticsAndMining/blob/master/Project_4th_512-128_15.ipynb\" target=\"_parent\"><img src=\"https://colab.research.google.com/assets/colab-badge.svg\" alt=\"Open In Colab\"/></a>"
      ]
    },
    {
      "cell_type": "code",
      "metadata": {
        "id": "GvYXoZSvLMR7",
        "colab_type": "code",
        "outputId": "48f2074e-ec14-4241-f153-62a4360aa50b",
        "colab": {
          "base_uri": "https://localhost:8080/",
          "height": 34
        }
      },
      "source": [
        "from google.colab import drive\n",
        "drive.mount('/content/gdrive')"
      ],
      "execution_count": 2,
      "outputs": [
        {
          "output_type": "stream",
          "text": [
            "Drive already mounted at /content/gdrive; to attempt to forcibly remount, call drive.mount(\"/content/gdrive\", force_remount=True).\n"
          ],
          "name": "stdout"
        }
      ]
    },
    {
      "cell_type": "code",
      "metadata": {
        "id": "2zuQnqD3MVgR",
        "colab_type": "code",
        "outputId": "e16a2838-9c13-452a-b9b1-766b58007878",
        "colab": {
          "base_uri": "https://localhost:8080/",
          "height": 50
        }
      },
      "source": [
        "\n",
        "!ls"
      ],
      "execution_count": 3,
      "outputs": [
        {
          "output_type": "stream",
          "text": [
            "dictionary.json  model.h5    sample_data\n",
            "gdrive\t\t model.json  submission_model1.csv\n"
          ],
          "name": "stdout"
        }
      ]
    },
    {
      "cell_type": "code",
      "metadata": {
        "id": "9d7XaDPALNiZ",
        "colab_type": "code",
        "outputId": "1b7b329d-7ecf-4f4f-e501-0e90b65dfec4",
        "colab": {
          "base_uri": "https://localhost:8080/",
          "height": 34
        }
      },
      "source": [
        "import numpy as np\n",
        "import pandas as pd\n",
        "from sklearn.preprocessing import LabelEncoder\n",
        "import json\n",
        "import keras\n",
        "import keras.preprocessing.text as kpt\n",
        "from keras.preprocessing.text import Tokenizer\n",
        "from keras.models import Sequential\n",
        "from keras.layers import Dense, Dropout\n",
        "from keras.models import model_from_json"
      ],
      "execution_count": 4,
      "outputs": [
        {
          "output_type": "stream",
          "text": [
            "Using TensorFlow backend.\n"
          ],
          "name": "stderr"
        }
      ]
    },
    {
      "cell_type": "code",
      "metadata": {
        "id": "5SLhtb7WLvhS",
        "colab_type": "code",
        "colab": {}
      },
      "source": [
        "def convert_text_to_index_array(text):\n",
        "    return [dictionary[word] for word in kpt.text_to_word_sequence(text)]\n"
      ],
      "execution_count": 0,
      "outputs": []
    },
    {
      "cell_type": "code",
      "metadata": {
        "id": "WZe_ujiRL7ET",
        "colab_type": "code",
        "colab": {}
      },
      "source": [
        "def data_prepare(training_file_path):\n",
        "\n",
        "    dataset = pd.read_csv(training_file_path)\n",
        "    reviews = []\n",
        "    labels = []    \n",
        "    \n",
        "    # Enconding Categorical Data     \n",
        "    labelencoder_y = LabelEncoder()\n",
        "    dataset['Is_Response'] = labelencoder_y.fit_transform(dataset['Is_Response'])\n",
        "    print(dataset['Is_Response'])\n",
        "    cLen = len(dataset['Description'])\n",
        "        \n",
        "    for i in range(0,cLen):\n",
        "        review = dataset['Description'][i]\n",
        "        reviews.append(review) \n",
        "        label = dataset[\"Is_Response\"][i]\n",
        "        labels.append(label)    \n",
        "    labels = np.asarray(labels)\n",
        "    return reviews,labels"
      ],
      "execution_count": 0,
      "outputs": []
    },
    {
      "cell_type": "code",
      "metadata": {
        "id": "N6sNNiAIMAtX",
        "colab_type": "code",
        "outputId": "852095fb-5b3b-462d-d575-bfb6842f2310",
        "colab": {
          "base_uri": "https://localhost:8080/",
          "height": 1058
        }
      },
      "source": [
        "train_file_path = \"/content/gdrive/My Drive/train.csv\"\n",
        "[reviews,labels] = data_prepare(train_file_path)\n",
        "\n",
        "# Create Dictionary of words and their indices\n",
        "max_words = 10000\n",
        "tokenizer = Tokenizer(num_words=max_words)\n",
        "tokenizer.fit_on_texts(reviews)\n",
        "dictionary = tokenizer.word_index\n"
      ],
      "execution_count": 7,
      "outputs": [
        {
          "output_type": "stream",
          "text": [
            "0        1\n",
            "1        1\n",
            "2        1\n",
            "3        0\n",
            "4        1\n",
            "5        0\n",
            "6        1\n",
            "7        0\n",
            "8        0\n",
            "9        1\n",
            "10       0\n",
            "11       0\n",
            "12       1\n",
            "13       0\n",
            "14       0\n",
            "15       0\n",
            "16       1\n",
            "17       1\n",
            "18       0\n",
            "19       1\n",
            "20       1\n",
            "21       0\n",
            "22       1\n",
            "23       0\n",
            "24       0\n",
            "25       1\n",
            "26       0\n",
            "27       0\n",
            "28       0\n",
            "29       1\n",
            "        ..\n",
            "38902    0\n",
            "38903    0\n",
            "38904    0\n",
            "38905    1\n",
            "38906    0\n",
            "38907    0\n",
            "38908    0\n",
            "38909    1\n",
            "38910    0\n",
            "38911    0\n",
            "38912    0\n",
            "38913    1\n",
            "38914    1\n",
            "38915    0\n",
            "38916    0\n",
            "38917    0\n",
            "38918    1\n",
            "38919    0\n",
            "38920    0\n",
            "38921    0\n",
            "38922    1\n",
            "38923    1\n",
            "38924    0\n",
            "38925    0\n",
            "38926    1\n",
            "38927    0\n",
            "38928    1\n",
            "38929    1\n",
            "38930    1\n",
            "38931    0\n",
            "Name: Is_Response, Length: 38932, dtype: int64\n"
          ],
          "name": "stdout"
        }
      ]
    },
    {
      "cell_type": "code",
      "metadata": {
        "id": "5i-FviKIMKoG",
        "colab_type": "code",
        "colab": {}
      },
      "source": [
        "with open('dictionary.json','w') as dictionary_file:\n",
        "    json.dump(dictionary,dictionary_file)"
      ],
      "execution_count": 0,
      "outputs": []
    },
    {
      "cell_type": "code",
      "metadata": {
        "id": "jLXe25H0po1F",
        "colab_type": "code",
        "outputId": "3b83b7a2-0040-4bd1-e21d-86f6abf90dc3",
        "colab": {
          "base_uri": "https://localhost:8080/",
          "height": 34
        }
      },
      "source": [
        "len(labels)"
      ],
      "execution_count": 107,
      "outputs": [
        {
          "output_type": "execute_result",
          "data": {
            "text/plain": [
              "38932"
            ]
          },
          "metadata": {
            "tags": []
          },
          "execution_count": 107
        }
      ]
    },
    {
      "cell_type": "code",
      "metadata": {
        "id": "6OYgl2RyN70S",
        "colab_type": "code",
        "colab": {}
      },
      "source": [
        "# Replace words of each text review to indices\n",
        "allWordIndices = []\n",
        "for num,text in enumerate(reviews):\n",
        "    wordIndices = convert_text_to_index_array(text)\n",
        "    allWordIndices.append(wordIndices)\n",
        "    #print(wordIndices)\n"
      ],
      "execution_count": 0,
      "outputs": []
    },
    {
      "cell_type": "code",
      "metadata": {
        "id": "a-pEjZb2u-j2",
        "colab_type": "code",
        "outputId": "f15e4647-1e62-4453-e9a7-edf4e0d6c3c4",
        "colab": {
          "base_uri": "https://localhost:8080/",
          "height": 34
        }
      },
      "source": [
        "labels.shape"
      ],
      "execution_count": 68,
      "outputs": [
        {
          "output_type": "execute_result",
          "data": {
            "text/plain": [
              "(38932,)"
            ]
          },
          "metadata": {
            "tags": []
          },
          "execution_count": 68
        }
      ]
    },
    {
      "cell_type": "code",
      "metadata": {
        "id": "tkc5qhYIOA6Z",
        "colab_type": "code",
        "colab": {}
      },
      "source": [
        "allWordIndices = np.asarray(allWordIndices)\n",
        "train_X = tokenizer.sequences_to_matrix(allWordIndices, mode='binary')\n",
        "labels = keras.utils.to_categorical(labels,num_classes=2)\n"
      ],
      "execution_count": 0,
      "outputs": []
    },
    {
      "cell_type": "code",
      "metadata": {
        "id": "tPQQlivEsSRz",
        "colab_type": "code",
        "outputId": "061675a0-23ad-4312-88cb-187b1fc23c34",
        "colab": {
          "base_uri": "https://localhost:8080/",
          "height": 134
        }
      },
      "source": [
        "labels"
      ],
      "execution_count": 70,
      "outputs": [
        {
          "output_type": "execute_result",
          "data": {
            "text/plain": [
              "array([[0., 1.],\n",
              "       [0., 1.],\n",
              "       [0., 1.],\n",
              "       ...,\n",
              "       [0., 1.],\n",
              "       [0., 1.],\n",
              "       [1., 0.]], dtype=float32)"
            ]
          },
          "metadata": {
            "tags": []
          },
          "execution_count": 70
        }
      ]
    },
    {
      "cell_type": "code",
      "metadata": {
        "id": "zOEiE6X6ONhC",
        "colab_type": "code",
        "outputId": "c8470129-0923-4f0b-9862-a6b7aeada161",
        "colab": {
          "base_uri": "https://localhost:8080/",
          "height": 138
        }
      },
      "source": [
        "# Creating Dense Neural Networl Model\n",
        "model = Sequential()\n",
        "model.add(Dense(512, input_shape=(max_words,), activation='elu'))\n",
        "model.add(Dropout(0.5))\n",
        "model.add(Dense(256, activation='elu'))\n",
        "model.add(Dropout(0.5))\n",
        "model.add(Dense(128, activation='elu'))\n",
        "model.add(Dropout(0.5))\n",
        "model.add(Dense(2, activation='softmax'))"
      ],
      "execution_count": 11,
      "outputs": [
        {
          "output_type": "stream",
          "text": [
            "WARNING:tensorflow:From /usr/local/lib/python3.6/dist-packages/tensorflow/python/framework/op_def_library.py:263: colocate_with (from tensorflow.python.framework.ops) is deprecated and will be removed in a future version.\n",
            "Instructions for updating:\n",
            "Colocations handled automatically by placer.\n",
            "WARNING:tensorflow:From /usr/local/lib/python3.6/dist-packages/keras/backend/tensorflow_backend.py:3445: calling dropout (from tensorflow.python.ops.nn_ops) with keep_prob is deprecated and will be removed in a future version.\n",
            "Instructions for updating:\n",
            "Please use `rate` instead of `keep_prob`. Rate should be set to `rate = 1 - keep_prob`.\n"
          ],
          "name": "stdout"
        }
      ]
    },
    {
      "cell_type": "code",
      "metadata": {
        "id": "ofpqwYNKOU3j",
        "colab_type": "code",
        "outputId": "41ed434c-fed3-4088-ce0b-5d38bd0e350a",
        "colab": {
          "base_uri": "https://localhost:8080/",
          "height": 386
        }
      },
      "source": [
        "print(model.summary())"
      ],
      "execution_count": 12,
      "outputs": [
        {
          "output_type": "stream",
          "text": [
            "_________________________________________________________________\n",
            "Layer (type)                 Output Shape              Param #   \n",
            "=================================================================\n",
            "dense_1 (Dense)              (None, 512)               5120512   \n",
            "_________________________________________________________________\n",
            "dropout_1 (Dropout)          (None, 512)               0         \n",
            "_________________________________________________________________\n",
            "dense_2 (Dense)              (None, 256)               131328    \n",
            "_________________________________________________________________\n",
            "dropout_2 (Dropout)          (None, 256)               0         \n",
            "_________________________________________________________________\n",
            "dense_3 (Dense)              (None, 128)               32896     \n",
            "_________________________________________________________________\n",
            "dropout_3 (Dropout)          (None, 128)               0         \n",
            "_________________________________________________________________\n",
            "dense_4 (Dense)              (None, 2)                 258       \n",
            "=================================================================\n",
            "Total params: 5,284,994\n",
            "Trainable params: 5,284,994\n",
            "Non-trainable params: 0\n",
            "_________________________________________________________________\n",
            "None\n"
          ],
          "name": "stdout"
        }
      ]
    },
    {
      "cell_type": "code",
      "metadata": {
        "id": "ClSBTQISOZV0",
        "colab_type": "code",
        "colab": {}
      },
      "source": [
        "model.compile(loss='categorical_crossentropy',\n",
        "  optimizer='sgd',\n",
        "  metrics=['accuracy'])\n"
      ],
      "execution_count": 0,
      "outputs": []
    },
    {
      "cell_type": "code",
      "metadata": {
        "id": "Jkpb9yngOibA",
        "colab_type": "code",
        "outputId": "5b39974a-f026-4c7c-e004-1ab6229bfe55",
        "colab": {
          "base_uri": "https://localhost:8080/",
          "height": 625
        }
      },
      "source": [
        "model.fit(train_X, labels,\n",
        "  batch_size=32,\n",
        "  epochs=15,\n",
        "  verbose=1,\n",
        "  validation_split=0.1,\n",
        "  shuffle=True)"
      ],
      "execution_count": 14,
      "outputs": [
        {
          "output_type": "stream",
          "text": [
            "WARNING:tensorflow:From /usr/local/lib/python3.6/dist-packages/tensorflow/python/ops/math_ops.py:3066: to_int32 (from tensorflow.python.ops.math_ops) is deprecated and will be removed in a future version.\n",
            "Instructions for updating:\n",
            "Use tf.cast instead.\n",
            "Train on 35038 samples, validate on 3894 samples\n",
            "Epoch 1/15\n",
            "35038/35038 [==============================] - 67s 2ms/step - loss: 0.4177 - acc: 0.8118 - val_loss: 0.3213 - val_acc: 0.8624\n",
            "Epoch 2/15\n",
            "35038/35038 [==============================] - 65s 2ms/step - loss: 0.3269 - acc: 0.8636 - val_loss: 0.2946 - val_acc: 0.8772\n",
            "Epoch 3/15\n",
            "35038/35038 [==============================] - 65s 2ms/step - loss: 0.3022 - acc: 0.8767 - val_loss: 0.2977 - val_acc: 0.8785\n",
            "Epoch 4/15\n",
            "35038/35038 [==============================] - 66s 2ms/step - loss: 0.2894 - acc: 0.8811 - val_loss: 0.2962 - val_acc: 0.8772\n",
            "Epoch 5/15\n",
            "35038/35038 [==============================] - 66s 2ms/step - loss: 0.2764 - acc: 0.8880 - val_loss: 0.2869 - val_acc: 0.8850\n",
            "Epoch 6/15\n",
            "35038/35038 [==============================] - 66s 2ms/step - loss: 0.2714 - acc: 0.8917 - val_loss: 0.2885 - val_acc: 0.8837\n",
            "Epoch 7/15\n",
            "35038/35038 [==============================] - 66s 2ms/step - loss: 0.2667 - acc: 0.8927 - val_loss: 0.2937 - val_acc: 0.8811\n",
            "Epoch 8/15\n",
            "35038/35038 [==============================] - 67s 2ms/step - loss: 0.2599 - acc: 0.8964 - val_loss: 0.2873 - val_acc: 0.8832\n",
            "Epoch 9/15\n",
            "35038/35038 [==============================] - 66s 2ms/step - loss: 0.2556 - acc: 0.8969 - val_loss: 0.2904 - val_acc: 0.8821\n",
            "Epoch 10/15\n",
            "35038/35038 [==============================] - 66s 2ms/step - loss: 0.2516 - acc: 0.8997 - val_loss: 0.2904 - val_acc: 0.8829\n",
            "Epoch 11/15\n",
            "35038/35038 [==============================] - 67s 2ms/step - loss: 0.2468 - acc: 0.9003 - val_loss: 0.3004 - val_acc: 0.8785\n",
            "Epoch 12/15\n",
            "35038/35038 [==============================] - 66s 2ms/step - loss: 0.2418 - acc: 0.9030 - val_loss: 0.2899 - val_acc: 0.8832\n",
            "Epoch 13/15\n",
            "35038/35038 [==============================] - 70s 2ms/step - loss: 0.2416 - acc: 0.9043 - val_loss: 0.2921 - val_acc: 0.8834\n",
            "Epoch 14/15\n",
            "35038/35038 [==============================] - 69s 2ms/step - loss: 0.2377 - acc: 0.9044 - val_loss: 0.2922 - val_acc: 0.8814\n",
            "Epoch 15/15\n",
            "35038/35038 [==============================] - 69s 2ms/step - loss: 0.2336 - acc: 0.9068 - val_loss: 0.2965 - val_acc: 0.8839\n"
          ],
          "name": "stdout"
        },
        {
          "output_type": "execute_result",
          "data": {
            "text/plain": [
              "<keras.callbacks.History at 0x7fda9faa2630>"
            ]
          },
          "metadata": {
            "tags": []
          },
          "execution_count": 14
        }
      ]
    },
    {
      "cell_type": "code",
      "metadata": {
        "id": "8bJTig3mOluF",
        "colab_type": "code",
        "colab": {}
      },
      "source": [
        "# Save model to disk\n",
        "model_json = model.to_json()\n",
        "with open('model.json', 'w') as json_file:\n",
        "    json_file.write(model_json)\n",
        "\n",
        "model.save_weights('model.h5')    "
      ],
      "execution_count": 0,
      "outputs": []
    },
    {
      "cell_type": "code",
      "metadata": {
        "id": "EIHTqV2PP7d9",
        "colab_type": "code",
        "colab": {}
      },
      "source": [
        "def convert_text_to_index_array_indices(text):\n",
        "    words = kpt.text_to_word_sequence(text)\n",
        "    wordIndices = []\n",
        "    for word in words:\n",
        "        if word in dictionary:\n",
        "            wordIndices.append(dictionary[word])\n",
        "    return wordIndices"
      ],
      "execution_count": 0,
      "outputs": []
    },
    {
      "cell_type": "code",
      "metadata": {
        "id": "JsXsxRm5QT8n",
        "colab_type": "code",
        "colab": {}
      },
      "source": [
        "labels = ['happy','not_happy']\n",
        "with open('dictionary.json', 'r') as dictionary_file:\n",
        "    dictionary = json.load(dictionary_file)"
      ],
      "execution_count": 0,
      "outputs": []
    },
    {
      "cell_type": "code",
      "metadata": {
        "id": "j88OYEaDQZM5",
        "colab_type": "code",
        "colab": {}
      },
      "source": [
        "# Load trained model\n",
        "json_file = open('model.json', 'r')\n",
        "loaded_model_json = json_file.read()\n",
        "json_file.close()\n",
        "model = model_from_json(loaded_model_json)\n",
        "model.load_weights('model.h5')"
      ],
      "execution_count": 0,
      "outputs": []
    },
    {
      "cell_type": "code",
      "metadata": {
        "id": "R8v97cltQe8K",
        "colab_type": "code",
        "colab": {
          "base_uri": "https://localhost:8080/",
          "height": 34
        },
        "outputId": "37952e08-c855-4d4a-db1b-8e613556a025"
      },
      "source": [
        "testset = pd.read_csv(\"/content/gdrive/My Drive/test.csv\")    \n",
        "cLen = len(testset['Description'])\n",
        "print(len((testset['Description'][29403])))\n",
        "tokenizer = Tokenizer(num_words=10000)\n"
      ],
      "execution_count": 19,
      "outputs": [
        {
          "output_type": "stream",
          "text": [
            "921\n"
          ],
          "name": "stdout"
        }
      ]
    },
    {
      "cell_type": "code",
      "metadata": {
        "id": "x4nV9igu3wAQ",
        "colab_type": "code",
        "outputId": "4104820f-d56a-4af2-b387-f52c12cfe744",
        "colab": {
          "base_uri": "https://localhost:8080/",
          "height": 34
        }
      },
      "source": [
        "cLen"
      ],
      "execution_count": 92,
      "outputs": [
        {
          "output_type": "execute_result",
          "data": {
            "text/plain": [
              "29404"
            ]
          },
          "metadata": {
            "tags": []
          },
          "execution_count": 92
        }
      ]
    },
    {
      "cell_type": "code",
      "metadata": {
        "id": "IOpHYBS9Q5L5",
        "colab_type": "code",
        "colab": {}
      },
      "source": [
        "y_pred = []   \n",
        "for i in range(0,cLen):\n",
        "    review = testset['Description'][i]\n",
        "    testArr = convert_text_to_index_array_indices(review)   \n",
        "    input = tokenizer.sequences_to_matrix([testArr], mode='binary')\n",
        "    pred = model.predict(input)\n",
        "    #print(pred[0][np.argmax(pred)] * 100, labels[np.argmax(pred)])\n",
        "    y_pred.append(labels[np.argmax(pred)])\n",
        "    "
      ],
      "execution_count": 0,
      "outputs": []
    },
    {
      "cell_type": "code",
      "metadata": {
        "id": "cOpkLzUg4f4V",
        "colab_type": "code",
        "outputId": "20982197-d401-43b4-9020-40c9ed798e91",
        "colab": {
          "base_uri": "https://localhost:8080/",
          "height": 34
        }
      },
      "source": [
        "len(testArr)"
      ],
      "execution_count": 94,
      "outputs": [
        {
          "output_type": "execute_result",
          "data": {
            "text/plain": [
              "140"
            ]
          },
          "metadata": {
            "tags": []
          },
          "execution_count": 94
        }
      ]
    },
    {
      "cell_type": "code",
      "metadata": {
        "id": "2GuXayQrQ99Z",
        "colab_type": "code",
        "colab": {}
      },
      "source": [
        "# Write the results in submission csv file\n",
        "raw_data = {'User_ID': testset['User_ID'], \n",
        "        'Is_Response': y_pred}\n",
        "df = pd.DataFrame(raw_data, columns = ['User_ID', 'Is_Response'])\n",
        "df.to_csv('/content/gdrive/My Drive/submission_model512-128.csv', sep=',',index=False)"
      ],
      "execution_count": 0,
      "outputs": []
    },
    {
      "cell_type": "code",
      "metadata": {
        "id": "zFyqKuYQR0ce",
        "colab_type": "code",
        "outputId": "65899b11-8744-46d7-e57e-6c2a59bb441e",
        "colab": {
          "base_uri": "https://localhost:8080/",
          "height": 34
        }
      },
      "source": [
        "\n",
        "arr=['On my visit to this hotel, the hotel staff were excellent as expected and was very humble.']\n",
        "for i in range(0,len(arr)):\n",
        "    review = arr[i]\n",
        "    testArr = convert_text_to_index_array_indices(review)   \n",
        "    input = tokenizer.sequences_to_matrix([testArr], mode='binary')\n",
        "    pred = model.predict(input)\n",
        "    print(pred[0][np.argmax(pred)] * 100, labels[np.argmax(pred)])\n",
        "   "
      ],
      "execution_count": 22,
      "outputs": [
        {
          "output_type": "stream",
          "text": [
            "94.5433259010315 happy\n"
          ],
          "name": "stdout"
        }
      ]
    },
    {
      "cell_type": "code",
      "metadata": {
        "id": "s0JowVVfXNhn",
        "colab_type": "code",
        "colab": {}
      },
      "source": [
        ""
      ],
      "execution_count": 0,
      "outputs": []
    }
  ]
}